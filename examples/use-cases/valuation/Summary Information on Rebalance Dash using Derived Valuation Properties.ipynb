{
 "cells": [
  {
   "cell_type": "markdown",
   "id": "58f6663a",
   "metadata": {},
   "source": [
    "## Introduction\n",
    "\n",
    "This notebook demonstrates how to:\n",
    "\n",
    "- Create a derived valuation property and then use this property to create a summary column in the rebalance dashboard.\n",
    "- Create a time variant portfolio property representing Total Net Assets (TNA) which can be populated from a 3rd party source, and then a derived valuation property which compares this to the LUSID calculated TNA. It then demonstrates how to:\n",
    "    - View the outputs of the time variant TNA values in luminesce.\n",
    "    - How to view the difference in a valuation and the rebalance dashboard."
   ]
  },
  {
   "cell_type": "markdown",
   "id": "41eb8496",
   "metadata": {},
   "source": [
    "## Setup"
   ]
  },
  {
   "cell_type": "code",
   "execution_count": 3,
   "id": "92149797",
   "metadata": {},
   "outputs": [],
   "source": [
    "from pprint import pprint\n",
    "import lusid\n",
    "import lusid.models as lm\n",
    "import lusid_drive\n",
    "import os\n",
    "# from lusidjam import RefreshingToken\n",
    "# from fbnsdkutilities import ApiClientFactory\n",
    "from lusid_drive import SyncApiClientFactory as ApiClientFactoryDrive\n",
    "from lusid_drive import ApplicationMetadataApi\n",
    "import pandas as pd\n",
    "# from lusid_drive import Api\n",
    "\n",
    "# Authenticate our user and create our API client\n",
    "secrets_path = os.getenv(\"FBN_SECRETS_PATH\")\n",
    "\n",
    "# api_client_factory = lusid.utilities.ApiClientFactory( \n",
    "#    api_secrets_filename=secrets_path\n",
    "# )\n",
    "\n",
    "# api_client_factory = lusid.ApiClientFactory(\n",
    "#    api_secret=secrets_path\n",
    "# )\n",
    "\n",
    "from lusid.utilities import ApiClientFactory\n",
    "from lusidjam.refreshing_token import RefreshingToken\n",
    "api_factory = lusid.utilities.ApiClientFactory(\n",
    "    token=RefreshingToken(),\n",
    "    api_secrets_filename=secrets_path,\n",
    "    app_name=\"LusidJupyterNotebook\",\n",
    ")\n",
    "\n",
    "\n",
    "# Get URL and use it to configure Workflow and Drive SDKs\n",
    "api_url = api_factory.api_client.configuration.host.strip(\"/api\")\n",
    "drive_configuration = lusid_drive.Configuration(host=api_url + \"/drive\")\n",
    "drive_configuration.access_token = api_factory.api_client.configuration.access_token\n",
    "\n",
    "# Setup Drive Client\n",
    "drive_client = lusid_drive.ApiClient(drive_configuration)\n",
    "\n",
    "property_api = api_factory.build(lusid.api.PropertyDefinitionsApi)\n",
    "txn_portfolio_api = api_factory.build(lusid.api.TransactionPortfoliosApi)\n",
    "portfolio_api = api_factory.build(lusid.api.PortfoliosApi)\n",
    "\n",
    "files_api = lusid_drive.FilesApi(drive_client)\n",
    "search_api = lusid_drive.SearchApi(drive_client)\n",
    "# files_api = api_client_factory_drive.build(lusid_drive.api.FilesApi)\n",
    "# search_api = api_client_factory_drive.build(lusid_drive.api.SearchApi)"
   ]
  },
  {
   "cell_type": "markdown",
   "id": "b96a42e2",
   "metadata": {},
   "source": [
    "## Variables Setup"
   ]
  },
  {
   "cell_type": "code",
   "execution_count": 4,
   "id": "24951fab",
   "metadata": {},
   "outputs": [],
   "source": [
    "my_scope = \"FinbourneUniversity\"\n",
    "\n",
    "derived_valuation_property_domain = \"DerivedValuation\"\n",
    "derived_valuation_property_scope = my_scope\n",
    "derived_valuation_property_code = \"CashAtBroker\"\n",
    "derived_valuation_property_display_name = \"Cash At Broker\"\n",
    "derived_valuation_property_value = \"Valuation/ExposureInReportCcy\"\n",
    "\n",
    "SHK_domain = \"Transaction\"\n",
    "SHK_scope = my_scope\n",
    "SHK_1_name = \"CashFlag\"\n",
    "SHK_2_name = \"ActivityFlag\"\n",
    "SHK_1_value = \"MARGIN\"\n",
    "SHK_2_value = \"CASH\""
   ]
  },
  {
   "cell_type": "markdown",
   "id": "6c7c2387",
   "metadata": {},
   "source": [
    "# Creating a summary property for the rebalance dashboard"
   ]
  },
  {
   "cell_type": "markdown",
   "id": "3cc8d395",
   "metadata": {},
   "source": [
    "## Create a derived valuation property\n",
    "\n",
    "This is for creating a derived valuation property for the first time. Please see the below cell for how to update an existing derived valuation property."
   ]
  },
  {
   "cell_type": "code",
   "execution_count": 5,
   "id": "f9437b22",
   "metadata": {},
   "outputs": [
    {
     "name": "stdout",
     "output_type": "stream",
     "text": [
      "Exception when calling PropertyDefinitionsApi->create_derived_property_definition: (400)\n",
      "Reason: Bad Request\n",
      "HTTP response headers: HTTPHeaderDict({'Date': 'Mon, 21 Oct 2024 10:09:27 GMT', 'Content-Type': 'application/problem+json', 'Transfer-Encoding': 'chunked', 'Connection': 'keep-alive', 'x-rate-limit-limit': '1m', 'x-rate-limit-remaining': '4999', 'x-rate-limit-reset': '2024-10-21T10:10:25.3562191Z', 'lusid-meta-success': 'False', 'lusid-meta-requestid': '0HN7H3U45HM68:000000C3', 'lusid-meta-correlationid': '0HN7H3U45HM68:000000C3', 'lusid-meta-duration': '1678', 'x-envoy-upstream-service-time': '2881', 'Strict-Transport-Security': 'max-age=15724800; includeSubDomains', 'Server': 'FINBOURNE', 'Content-Security-Policy': \"default-src 'self' https://*.lusid.com https://*.finbourne.com; script-src 'unsafe-inline' 'self' https://*.lusid.com https://*.finbourne.com https://editor.swagger.io; font-src 'self' fonts.googleapis.com; img-src data: 'self' https://*.lusid.com https://*.finbourne.com https://validator.swagger.io; style-src 'unsafe-inline' 'self' https://*.lusid.com https://*.finbourne.com; report-uri https://lusid.report-uri.com/r/d/csp/enforce\", 'X-Frame-Options': 'SAMEORIGIN', 'Permissions-Policy': 'accelerometer=(), ambient-light-sensor=(), autoplay=(self), battery=(), camera=(), cross-origin-isolated=(self), display-capture=(), document-domain=*, encrypted-media=(), execution-while-not-rendered=(), execution-while-out-of-viewport=(), fullscreen=(self), geolocation=(self), gyroscope=(), keyboard-map=(), magnetometer=(), microphone=(), midi=(), navigation-override=(), payment=(), picture-in-picture=(), publickey-credentials-get=(), screen-wake-lock=(), sync-xhr=(), usb=(), web-share=(), xr-spatial-tracking=()', 'Referrer-Policy': 'strict-origin-when-cross-origin', 'X-XSS-Protection': '1; mode=block', 'X-Content-Type-Options': 'nosniff', 'Expect-CT': \"max-age=3600, enforce, report-uri='https://lusid.report-uri.com/r/d/ct/enforce'\", 'Access-Control-Max-Age': '600'})\n",
      "HTTP response body: {\"name\":\"PropertyAlreadyExists\",\"errorDetails\":[],\"code\":124,\"type\":\"https://docs.lusid.com/#section/Error-Codes/124\",\"title\":\"Error creating Property Definition 'DerivedValuation/FinbourneUniversity/CashAtBroker' because it already exists.\",\"status\":400,\"detail\":\"Error creating Property Definition 'DerivedValuation/FinbourneUniversity/CashAtBroker' because it already exists.\",\"instance\":\"https://fbn-katy.lusid.com/app/insights/logs/0HN7H3U45HM68:000000C3\",\"extensions\":{}}\n",
      "\n",
      "\n"
     ]
    }
   ],
   "source": [
    "create_derived_property_definition_request = lm.CreateDerivedPropertyDefinitionRequest(\n",
    "    domain = derived_valuation_property_domain,\n",
    "     scope = derived_valuation_property_scope,\n",
    "     code = derived_valuation_property_code,\n",
    "     display_name = derived_valuation_property_display_name,\n",
    "     data_type_id = {\"scope\":\"system\",\"code\":\"number\"},\n",
    "     property_description = \"\",\n",
    "     derivation_formula = f\"\"\"IF (PortfolioHolding.SubHoldingKeys[{SHK_domain}/{SHK_scope}/{SHK_1_name}] eq '{SHK_1_value}'\n",
    "         and PortfolioHolding.SubHoldingKeys[{SHK_domain}/{SHK_scope}/{SHK_2_name}] eq '{SHK_2_value}')\n",
    "             THEN AddressKeys[{derived_valuation_property_value}]\n",
    "             ELSE 0\"\"\"\n",
    ")\n",
    "\n",
    "try:\n",
    "    api_response = property_api.create_derived_property_definition(create_derived_property_definition_request)\n",
    "    pprint(api_response)\n",
    "except Exception as e:\n",
    "    print(\"Exception when calling PropertyDefinitionsApi->create_derived_property_definition: %s\\n\" % e)"
   ]
  },
  {
   "cell_type": "markdown",
   "id": "b91ffc2c",
   "metadata": {},
   "source": [
    "## Update the derived valuation property\n",
    "\n",
    "This is useful if you have created a derived valuation property but would now like to change the derivation formula."
   ]
  },
  {
   "cell_type": "code",
   "execution_count": 8,
   "id": "d616529a",
   "metadata": {},
   "outputs": [
    {
     "name": "stdout",
     "output_type": "stream",
     "text": [
      "{'code': 'CashAtBroker',\n",
      " 'collection_type': None,\n",
      " 'constraint_style': None,\n",
      " 'data_type_id': {'code': 'number', 'scope': 'system'},\n",
      " 'derivation_formula': 'IF '\n",
      "                       '(PortfolioHolding.SubHoldingKeys[Transaction/FinbourneUniversity/CashFlag] '\n",
      "                       \"eq 'MARGIN'\\n\"\n",
      "                       '         and '\n",
      "                       'PortfolioHolding.SubHoldingKeys[Transaction/FinbourneUniversity/ActivityFlag] '\n",
      "                       \"eq 'CASH')\\n\"\n",
      "                       '             THEN '\n",
      "                       'AddressKeys[Valuation/ExposureInReportCcy]\\n'\n",
      "                       '             ELSE 0',\n",
      " 'display_name': 'Cash At Broker',\n",
      " 'domain': 'DerivedValuation',\n",
      " 'href': None,\n",
      " 'key': 'DerivedValuation/FinbourneUniversity/CashAtBroker',\n",
      " 'life_time': 'Perpetual',\n",
      " 'links': [{'description': None,\n",
      "            'href': 'https://fbn-katy.lusid.com/api/api/schemas/entities/PropertyDefinition',\n",
      "            'method': 'GET',\n",
      "            'relation': 'EntitySchema'},\n",
      "           {'description': 'A link to the LUSID Insights website showing all '\n",
      "                           'logs related to this request',\n",
      "            'href': 'https://fbn-katy.lusid.com/app/insights/logs/0HN7H8I8O86OM:000000D0',\n",
      "            'method': 'GET',\n",
      "            'relation': 'RequestLogs'}],\n",
      " 'properties': {},\n",
      " 'property_definition_type': 'DerivedDefinition',\n",
      " 'property_description': '',\n",
      " 'scope': 'FinbourneUniversity',\n",
      " 'staged_modifications': {'count_pending': 0,\n",
      "                          'href_pending': 'https://fbn-katy.lusid.com/api/api/stagedmodifications/?asAt=2024-10-21T10%3A10%3A40.1403840%2B00%3A00&filter=entityUniqueId%20eq%20%27fa108043-4c7e-4b08-a294-540035d02233%27%20and%20status%20eq%20%27Pending%27',\n",
      "                          'ids_previewed': []},\n",
      " 'type': 'Metric',\n",
      " 'unit_schema': 'NoUnits',\n",
      " 'value_required': False,\n",
      " 'value_type': 'Decimal',\n",
      " 'version': {'as_at_created': datetime.datetime(2024, 9, 10, 17, 15, 50, 484212, tzinfo=tzutc()),\n",
      "             'as_at_date': datetime.datetime(2024, 10, 21, 10, 10, 40, 140384, tzinfo=tzutc()),\n",
      "             'as_at_modified': datetime.datetime(2024, 10, 21, 10, 10, 40, 140384, tzinfo=tzutc()),\n",
      "             'as_at_version_number': 5,\n",
      "             'effective_from': datetime.datetime(1, 1, 1, 0, 0, tzinfo=tzutc()),\n",
      "             'entity_unique_id': 'fa108043-4c7e-4b08-a294-540035d02233',\n",
      "             'request_id_created': '0HN6HM373HARL:00000083',\n",
      "             'request_id_modified': '0HN7H8I8O86OM:000000D0',\n",
      "             'staged_modification_id_modified': None,\n",
      "             'user_id_created': '00uv7u9h0dupIp2a32p7',\n",
      "             'user_id_modified': '00uv7u9h0dupIp2a32p7'}}\n"
     ]
    }
   ],
   "source": [
    "update_derived_property_definition_request = lm.UpdateDerivedPropertyDefinitionRequest(\n",
    "    display_name = derived_valuation_property_display_name,\n",
    "    data_type_id = {\"scope\":\"system\",\"code\":\"number\"},\n",
    "     property_description = \"\",\n",
    "     derivation_formula = f\"\"\"IF (PortfolioHolding.SubHoldingKeys[{SHK_domain}/{SHK_scope}/{SHK_1_name}] eq '{SHK_1_value}'\n",
    "         and PortfolioHolding.SubHoldingKeys[{SHK_domain}/{SHK_scope}/{SHK_2_name}] eq '{SHK_2_value}')\n",
    "             THEN AddressKeys[{derived_valuation_property_value}]\n",
    "             ELSE 0\"\"\"\n",
    ")\n",
    "\n",
    "try:\n",
    "    api_response = property_api.update_derived_property_definition(derived_valuation_property_domain, derived_valuation_property_scope, derived_valuation_property_code, update_derived_property_definition_request)\n",
    "    pprint(api_response)\n",
    "except Exception as e:\n",
    "    print(\"Exception when calling PropertyDefinitionsApi->update_derived_property_definition: %s\\n\" % e)"
   ]
  },
  {
   "cell_type": "markdown",
   "id": "d8b9954d",
   "metadata": {},
   "source": [
    "## Clean-up: Delete the properties"
   ]
  },
  {
   "cell_type": "code",
   "execution_count": 9,
   "id": "25a5d31e",
   "metadata": {},
   "outputs": [
    {
     "name": "stdout",
     "output_type": "stream",
     "text": [
      "{'as_at': datetime.datetime(2024, 10, 21, 10, 11, 23, 84661, tzinfo=tzutc()),\n",
      " 'effective_from': datetime.datetime(1, 1, 1, 0, 0, tzinfo=tzutc()),\n",
      " 'entity_type': 'PropertyDefinition',\n",
      " 'entity_unique_id': 'fa108043-4c7e-4b08-a294-540035d02233',\n",
      " 'href': 'https://fbn-katy.lusid.com/api/api/entities/propertydefinitions/fa108043-4c7e-4b08-a294-540035d02233?effectiveAt=0001-01-01T00%3A00%3A00.0000000%2B00%3A00&asAt=2024-10-21T10%3A11%3A23.0846610%2B00%3A00',\n",
      " 'links': [{'description': 'A link to the LUSID Insights website showing all '\n",
      "                           'logs related to this request',\n",
      "            'href': 'https://fbn-katy.lusid.com/app/insights/logs/0HN7H3U45HMB0:00000008',\n",
      "            'method': 'GET',\n",
      "            'relation': 'RequestLogs'}],\n",
      " 'staged_modifications': {'count_pending': 0,\n",
      "                          'href_pending': 'https://fbn-katy.lusid.com/api/api/stagedmodifications/?asAt=2024-10-21T10%3A11%3A23.0846610%2B00%3A00&filter=entityUniqueId%20eq%20%27fa108043-4c7e-4b08-a294-540035d02233%27%20and%20status%20eq%20%27Pending%27',\n",
      "                          'ids_previewed': []}}\n"
     ]
    }
   ],
   "source": [
    "try:\n",
    "    # DeletePropertyDefinition: Delete property definition\n",
    "    api_response = property_api.delete_property_definition(derived_valuation_property_domain, derived_valuation_property_scope, derived_valuation_property_code)\n",
    "    pprint(api_response)\n",
    "except lusid.ApiException as e:\n",
    "    print(\"Exception when calling PropertyDefinitionsApi->delete_property_definition: %s\\n\" % e)"
   ]
  },
  {
   "cell_type": "markdown",
   "id": "d607225f",
   "metadata": {},
   "source": [
    "## Checking the Valuations dashboard"
   ]
  },
  {
   "cell_type": "markdown",
   "id": "4aa63b1b",
   "metadata": {},
   "source": [
    "Check your valuations dashboard to confirm your set-up. In this example I have Cash Flag and Activity Flag Transaction Domain properties as Sub Holding Keys (SHKs), as well as the previously set-up \"Cash At Broker\" derived valuation property, which will display the Exposure in Report Currency when CashFlag = MARGIN and ActivityFlag = CASH. By default this whole dashboard is grouped as one, so all sum columns are displaying the same values in every row.\n",
    "\n",
    "![image.png](attachment:0563002e-4c5f-4349-9a67-e418425ec0b8.png)\n",
    "\n",
    "You can drag and drop the SHKs to see a more sensible view grouped by the SHKs, so Sum columns are now showing the summed values grouped by SHK, and we can see that the \"Cash At Broker\" property is correctly only populating with the exposure values when the CashFlag = MARGIN and ActivityFlag = CASH.\n",
    "\n",
    "![image.png](attachment:ed446c3f-abfc-4a9f-b4ca-708da110202c.png)"
   ]
  },
  {
   "cell_type": "markdown",
   "id": "44865da7",
   "metadata": {},
   "source": [
    "## Adding your derived valuation property to the rebalance dashboard"
   ]
  },
  {
   "cell_type": "markdown",
   "id": "e8ca3806",
   "metadata": {},
   "source": [
    "In your rebalance dashboard you can now add a column for your new \"Cash At Broker\" property with the sum operation into the top summary line of the dashboard:\n",
    "\n",
    "![image.png](attachment:07814808-6d52-46ce-9f41-da079e7c87b9.png)\n",
    "\n",
    "![image.png](attachment:c0830a9f-f828-4d2e-8c31-563c1f0c2624.png)\n",
    "\n",
    "![image.png](attachment:0a756519-4476-48c3-bbf5-d05ca4fe8110.png)\n",
    "\n",
    "![image.png](attachment:5bdbd945-7d62-4a26-85e5-648b328a3a32.png)\n",
    "\n",
    "![image.png](attachment:007b5e77-5cc9-4334-9521-2ee9fcb69fdd.png)\n",
    "\n",
    "Submit and save, and you can now see a summary line for Cash At Broker in your rebalance dashboard:\n",
    "\n",
    "![image.png](attachment:6ccc07c3-d440-4662-a646-dac72efa77ba.png)"
   ]
  },
  {
   "cell_type": "markdown",
   "id": "1246622d",
   "metadata": {},
   "source": [
    "# Displaying the % difference between a LUSID calculated value and an external value"
   ]
  },
  {
   "cell_type": "markdown",
   "id": "cd3befe1",
   "metadata": {},
   "source": [
    "## Create a time variant portfolio property definition\n",
    "\n",
    "This is a property definition which can be used to store the market valuation of each portfolio that has been calculated by another system. This step only creates the property definition, you will need to add this property to your portfolios and upload values for each portfolio."
   ]
  },
  {
   "cell_type": "code",
   "execution_count": null,
   "id": "c41b79cd",
   "metadata": {},
   "outputs": [],
   "source": [
    "property_code = 'MarketValuation'\n",
    "\n",
    "create_property_definition_request = lm.CreatePropertyDefinitionRequest(\n",
    "    domain='Portfolio',\n",
    "    scope=my_scope,\n",
    "    code=property_code,\n",
    "    display_name='Market Valuation',\n",
    "    data_type_id={\"scope\":\"system\",\"code\":\"number\"},\n",
    "    life_time=\"TimeVariant\"\n",
    ")\n",
    "\n",
    "try:\n",
    "    # CreatePropertyDefinition: Create property definition\n",
    "    api_response = property_api.create_property_definition(create_property_definition_request)\n",
    "    pprint(api_response)\n",
    "except lusid.ApiException as e:\n",
    "    print(\"Exception when calling PropertyDefinitionsApi->create_property_definition: %s\\n\" % e)"
   ]
  },
  {
   "cell_type": "markdown",
   "id": "d03ea6d5",
   "metadata": {},
   "source": [
    "This cell should show an easy way to update all of your portfolios to have a value for this but where should we get the data from...???"
   ]
  },
  {
   "cell_type": "code",
   "execution_count": null,
   "id": "52840315",
   "metadata": {},
   "outputs": [],
   "source": []
  },
  {
   "cell_type": "markdown",
   "id": "14e841b7",
   "metadata": {},
   "source": [
    "## Create a derived valuation property\n",
    ".. that accesses that property and calculates a % delta between IBOR EOD/SOD TNA and the current calc'd TNA in LUSID"
   ]
  },
  {
   "cell_type": "code",
   "execution_count": null,
   "id": "b2827608",
   "metadata": {},
   "outputs": [],
   "source": [
    "create_derived_property_definition_request = lm.CreateDerivedPropertyDefinitionRequest(\n",
    "    domain = derived_valuation_property_domain,\n",
    "     scope = my_scope,\n",
    "     code = \"MarketValuationDelta\",\n",
    "     display_name = \"Market Valuation Delta\",\n",
    "     data_type_id = {\"scope\":\"system\",\"code\":\"number\"},\n",
    "     property_description = \"\",\n",
    "    #  derivation_formula = f\"\"\"IF (PortfolioHolding.SubHoldingKeys[{SHK_domain}/{SHK_scope}/{SHK_1_name}] eq '{SHK_1_value}'\n",
    "    #      and PortfolioHolding.SubHoldingKeys[{SHK_domain}/{SHK_scope}/{SHK_2_name}] eq '{SHK_2_value}')\n",
    "    #          THEN AddressKeys[{derived_valuation_property_value}]\n",
    "    #          ELSE 0\"\"\"\n",
    "    derivation_formula = f\"\"\" IF(AddressKeys[Valuation/TotalPortfolioPvInPortfolioCcy] EQ 0) THEN\n",
    "                                0\n",
    "                                ELSE\n",
    "                                Properties[Portfolio/{my_scope}/{property_code}] /\n",
    "                                AddressKeys[Valuation/TotalPortfolioPvInPortfolioCcy] \"\"\"\n",
    ")\n",
    "\n",
    "try:\n",
    "    api_response = property_api.create_derived_property_definition(create_derived_property_definition_request)\n",
    "    pprint(api_response)\n",
    "except Exception as e:\n",
    "    print(\"Exception when calling PropertyDefinitionsApi->create_derived_property_definition: %s\\n\" % e)"
   ]
  },
  {
   "cell_type": "markdown",
   "id": "5415dd89",
   "metadata": {},
   "source": [
    "You can now add this derived valuation property as a column in the valuations dashboard or to the rebalance dashboard summary, in the same way as detailed above."
   ]
  }
 ],
 "metadata": {
  "kernelspec": {
   "display_name": "venv",
   "language": "python",
   "name": "python3"
  },
  "language_info": {
   "codemirror_mode": {
    "name": "ipython",
    "version": 3
   },
   "file_extension": ".py",
   "mimetype": "text/x-python",
   "name": "python",
   "nbconvert_exporter": "python",
   "pygments_lexer": "ipython3",
   "version": "3.12.4"
  }
 },
 "nbformat": 4,
 "nbformat_minor": 5
}
